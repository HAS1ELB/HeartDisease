{
 "cells": [
  {
   "cell_type": "code",
   "execution_count": 1,
   "metadata": {},
   "outputs": [],
   "source": [
    "# Importing necessary libraries for data cleaning\n",
    "import pandas as pd\n",
    "\n",
    "# Loading the dataset\n",
    "data = pd.read_csv(\"../data/HeartDisease.csv\")\n"
   ]
  },
  {
   "cell_type": "code",
   "execution_count": 2,
   "metadata": {},
   "outputs": [
    {
     "name": "stdout",
     "output_type": "stream",
     "text": [
      "Missing Values in Each Column Before Cleaning:\n",
      "age                              0\n",
      "sex                              0\n",
      "chest_pain_type                  0\n",
      "resting_blood_pressure           0\n",
      "cholestoral                      0\n",
      "fasting_blood_sugar              0\n",
      "rest_ecg                         0\n",
      "Max_heart_rate                   0\n",
      "exercise_induced_angina          0\n",
      "oldpeak                          0\n",
      "slope                            0\n",
      "vessels_colored_by_flourosopy    0\n",
      "thalassemia                      0\n",
      "target                           0\n",
      "dtype: int64\n"
     ]
    }
   ],
   "source": [
    "# Step 1: Identifying Missing Values\n",
    "print(\"Missing Values in Each Column Before Cleaning:\")\n",
    "print(data.isnull().sum())"
   ]
  },
  {
   "cell_type": "code",
   "execution_count": 3,
   "metadata": {},
   "outputs": [],
   "source": [
    "# Step 2: Handling Missing Values\n",
    "# Since no missing values were found, this step is for reference. \n",
    "# Common strategies include:\n",
    "# - Dropping rows/columns with many missing values\n",
    "# - Imputing with mean/median/mode for numerical columns or most frequent for categorical"
   ]
  },
  {
   "cell_type": "markdown",
   "metadata": {},
   "source": [
    "# Step 3: Checking and Handling Inconsistent or Incorrect Data Entries"
   ]
  },
  {
   "cell_type": "code",
   "execution_count": 4,
   "metadata": {},
   "outputs": [],
   "source": [
    "# Converting categorical values to a standardized format\n",
    "data['sex'] = data['sex'].str.capitalize()"
   ]
  },
  {
   "cell_type": "code",
   "execution_count": 5,
   "metadata": {},
   "outputs": [],
   "source": [
    "# Standardizing values in other categorical columns\n",
    "categorical_columns = ['chest_pain_type', 'fasting_blood_sugar', 'rest_ecg', \n",
    "                       'exercise_induced_angina', 'slope', 'vessels_colored_by_flourosopy', \n",
    "                       'thalassemia']"
   ]
  },
  {
   "cell_type": "code",
   "execution_count": 6,
   "metadata": {},
   "outputs": [],
   "source": [
    "for col in categorical_columns:\n",
    "    data[col] = data[col].str.lower()"
   ]
  },
  {
   "cell_type": "code",
   "execution_count": null,
   "metadata": {},
   "outputs": [],
   "source": []
  },
  {
   "cell_type": "markdown",
   "metadata": {},
   "source": [
    "# Step 4: Handling Outliers using IQR method"
   ]
  },
  {
   "cell_type": "code",
   "execution_count": 7,
   "metadata": {},
   "outputs": [],
   "source": [
    "numeric_columns = ['age', 'resting_blood_pressure', 'cholestoral', 'Max_heart_rate', 'oldpeak']\n",
    "for col in numeric_columns:\n",
    "    Q1 = data[col].quantile(0.25)\n",
    "    Q3 = data[col].quantile(0.75)\n",
    "    IQR = Q3 - Q1\n",
    "    lower_bound = Q1 - 1.5 * IQR\n",
    "    upper_bound = Q3 + 1.5 * IQR\n",
    "    # Cap outliers\n",
    "    data[col] = data[col].apply(lambda x: upper_bound if x > upper_bound else (lower_bound if x < lower_bound else x))"
   ]
  },
  {
   "cell_type": "markdown",
   "metadata": {},
   "source": [
    "# Step 5: Verifying Data Consistency Post-Cleaning"
   ]
  },
  {
   "cell_type": "code",
   "execution_count": 8,
   "metadata": {},
   "outputs": [
    {
     "name": "stdout",
     "output_type": "stream",
     "text": [
      "\n",
      "Data Information After Cleaning:\n",
      "<class 'pandas.core.frame.DataFrame'>\n",
      "RangeIndex: 1025 entries, 0 to 1024\n",
      "Data columns (total 14 columns):\n",
      " #   Column                         Non-Null Count  Dtype  \n",
      "---  ------                         --------------  -----  \n",
      " 0   age                            1025 non-null   int64  \n",
      " 1   sex                            1025 non-null   object \n",
      " 2   chest_pain_type                1025 non-null   object \n",
      " 3   resting_blood_pressure         1025 non-null   float64\n",
      " 4   cholestoral                    1025 non-null   float64\n",
      " 5   fasting_blood_sugar            1025 non-null   object \n",
      " 6   rest_ecg                       1025 non-null   object \n",
      " 7   Max_heart_rate                 1025 non-null   float64\n",
      " 8   exercise_induced_angina        1025 non-null   object \n",
      " 9   oldpeak                        1025 non-null   float64\n",
      " 10  slope                          1025 non-null   object \n",
      " 11  vessels_colored_by_flourosopy  1025 non-null   object \n",
      " 12  thalassemia                    1025 non-null   object \n",
      " 13  target                         1025 non-null   int64  \n",
      "dtypes: float64(4), int64(2), object(8)\n",
      "memory usage: 112.2+ KB\n",
      "\n",
      "First 5 Rows After Cleaning:\n",
      "   age     sex chest_pain_type  resting_blood_pressure  cholestoral  \\\n",
      "0   52    Male  typical angina                   125.0        212.0   \n",
      "1   53    Male  typical angina                   140.0        203.0   \n",
      "2   70    Male  typical angina                   145.0        174.0   \n",
      "3   61    Male  typical angina                   148.0        203.0   \n",
      "4   62  Female  typical angina                   138.0        294.0   \n",
      "\n",
      "      fasting_blood_sugar               rest_ecg  Max_heart_rate  \\\n",
      "0    lower than 120 mg/ml  st-t wave abnormality           168.0   \n",
      "1  greater than 120 mg/ml                 normal           155.0   \n",
      "2    lower than 120 mg/ml  st-t wave abnormality           125.0   \n",
      "3    lower than 120 mg/ml  st-t wave abnormality           161.0   \n",
      "4  greater than 120 mg/ml  st-t wave abnormality           106.0   \n",
      "\n",
      "  exercise_induced_angina  oldpeak        slope vessels_colored_by_flourosopy  \\\n",
      "0                      no      1.0  downsloping                           two   \n",
      "1                     yes      3.1    upsloping                          zero   \n",
      "2                     yes      2.6    upsloping                          zero   \n",
      "3                      no      0.0  downsloping                           one   \n",
      "4                      no      1.9         flat                         three   \n",
      "\n",
      "         thalassemia  target  \n",
      "0  reversable defect       0  \n",
      "1  reversable defect       0  \n",
      "2  reversable defect       0  \n",
      "3  reversable defect       0  \n",
      "4       fixed defect       0  \n"
     ]
    }
   ],
   "source": [
    "print(\"\\nData Information After Cleaning:\")\n",
    "data.info()\n",
    "print(\"\\nFirst 5 Rows After Cleaning:\")\n",
    "print(data.head())"
   ]
  },
  {
   "cell_type": "code",
   "execution_count": 9,
   "metadata": {},
   "outputs": [
    {
     "name": "stdout",
     "output_type": "stream",
     "text": [
      "\n",
      "Missing Values After Cleaning:\n",
      "age                              0\n",
      "sex                              0\n",
      "chest_pain_type                  0\n",
      "resting_blood_pressure           0\n",
      "cholestoral                      0\n",
      "fasting_blood_sugar              0\n",
      "rest_ecg                         0\n",
      "Max_heart_rate                   0\n",
      "exercise_induced_angina          0\n",
      "oldpeak                          0\n",
      "slope                            0\n",
      "vessels_colored_by_flourosopy    0\n",
      "thalassemia                      0\n",
      "target                           0\n",
      "dtype: int64\n",
      "\n",
      "Number of Duplicates Removed: 723\n"
     ]
    }
   ],
   "source": [
    "# Summary of Changes\n",
    "print(\"\\nMissing Values After Cleaning:\")\n",
    "print(data.isnull().sum())\n",
    "print(\"\\nNumber of Duplicates Removed:\", data.duplicated().sum())"
   ]
  }
 ],
 "metadata": {
  "kernelspec": {
   "display_name": "Python 3",
   "language": "python",
   "name": "python3"
  },
  "language_info": {
   "codemirror_mode": {
    "name": "ipython",
    "version": 3
   },
   "file_extension": ".py",
   "mimetype": "text/x-python",
   "name": "python",
   "nbconvert_exporter": "python",
   "pygments_lexer": "ipython3",
   "version": "3.12.4"
  }
 },
 "nbformat": 4,
 "nbformat_minor": 2
}
