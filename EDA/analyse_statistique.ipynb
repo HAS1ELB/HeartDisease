{
 "cells": [
  {
   "cell_type": "code",
   "execution_count": 1,
   "metadata": {},
   "outputs": [],
   "source": [
    "# Importing necessary libraries for data cleaning\n",
    "import pandas as pd\n",
    "\n",
    "# Loading the dataset\n",
    "data = pd.read_csv(\"/home/hassan/Desktop/HeartDiseaseAnalysis/data/HeartDisease.csv\")"
   ]
  },
  {
   "cell_type": "code",
   "execution_count": 2,
   "metadata": {},
   "outputs": [
    {
     "name": "stdout",
     "output_type": "stream",
     "text": [
      "Statistiques descriptives globales :\n",
      "                age   sex chest_pain_type  resting_blood_pressure  \\\n",
      "count   1025.000000  1025            1025             1025.000000   \n",
      "unique          NaN     2               4                     NaN   \n",
      "top             NaN  Male  Typical angina                     NaN   \n",
      "freq            NaN   713             497                     NaN   \n",
      "mean      54.434146   NaN             NaN              131.611707   \n",
      "std        9.072290   NaN             NaN               17.516718   \n",
      "min       29.000000   NaN             NaN               94.000000   \n",
      "25%       48.000000   NaN             NaN              120.000000   \n",
      "50%       56.000000   NaN             NaN              130.000000   \n",
      "75%       61.000000   NaN             NaN              140.000000   \n",
      "max       77.000000   NaN             NaN              200.000000   \n",
      "\n",
      "        cholestoral   fasting_blood_sugar               rest_ecg  \\\n",
      "count    1025.00000                  1025                   1025   \n",
      "unique          NaN                     2                      3   \n",
      "top             NaN  Lower than 120 mg/ml  ST-T wave abnormality   \n",
      "freq            NaN                   872                    513   \n",
      "mean      246.00000                   NaN                    NaN   \n",
      "std        51.59251                   NaN                    NaN   \n",
      "min       126.00000                   NaN                    NaN   \n",
      "25%       211.00000                   NaN                    NaN   \n",
      "50%       240.00000                   NaN                    NaN   \n",
      "75%       275.00000                   NaN                    NaN   \n",
      "max       564.00000                   NaN                    NaN   \n",
      "\n",
      "        Max_heart_rate exercise_induced_angina      oldpeak slope  \\\n",
      "count      1025.000000                    1025  1025.000000  1025   \n",
      "unique             NaN                       2          NaN     3   \n",
      "top                NaN                      No          NaN  Flat   \n",
      "freq               NaN                     680          NaN   482   \n",
      "mean        149.114146                     NaN     1.071512   NaN   \n",
      "std          23.005724                     NaN     1.175053   NaN   \n",
      "min          71.000000                     NaN     0.000000   NaN   \n",
      "25%         132.000000                     NaN     0.000000   NaN   \n",
      "50%         152.000000                     NaN     0.800000   NaN   \n",
      "75%         166.000000                     NaN     1.800000   NaN   \n",
      "max         202.000000                     NaN     6.200000   NaN   \n",
      "\n",
      "       vessels_colored_by_flourosopy   thalassemia       target  \n",
      "count                           1025          1025  1025.000000  \n",
      "unique                             5             4          NaN  \n",
      "top                             Zero  Fixed Defect          NaN  \n",
      "freq                             578           544          NaN  \n",
      "mean                             NaN           NaN     0.513171  \n",
      "std                              NaN           NaN     0.500070  \n",
      "min                              NaN           NaN     0.000000  \n",
      "25%                              NaN           NaN     0.000000  \n",
      "50%                              NaN           NaN     1.000000  \n",
      "75%                              NaN           NaN     1.000000  \n",
      "max                              NaN           NaN     1.000000  \n"
     ]
    }
   ],
   "source": [
    "# 1. Statistiques descriptives de base pour toutes les colonnes\n",
    "print(\"Statistiques descriptives globales :\")\n",
    "print(data.describe(include='all'))"
   ]
  },
  {
   "cell_type": "code",
   "execution_count": 3,
   "metadata": {},
   "outputs": [
    {
     "name": "stdout",
     "output_type": "stream",
     "text": [
      "\n",
      "Statistiques descriptives pour les colonnes numériques :\n",
      "                         count        mean        std    min    25%    50%  \\\n",
      "age                     1025.0   54.434146   9.072290   29.0   48.0   56.0   \n",
      "resting_blood_pressure  1025.0  131.611707  17.516718   94.0  120.0  130.0   \n",
      "cholestoral             1025.0  246.000000  51.592510  126.0  211.0  240.0   \n",
      "Max_heart_rate          1025.0  149.114146  23.005724   71.0  132.0  152.0   \n",
      "oldpeak                 1025.0    1.071512   1.175053    0.0    0.0    0.8   \n",
      "target                  1025.0    0.513171   0.500070    0.0    0.0    1.0   \n",
      "\n",
      "                          75%    max  \n",
      "age                      61.0   77.0  \n",
      "resting_blood_pressure  140.0  200.0  \n",
      "cholestoral             275.0  564.0  \n",
      "Max_heart_rate          166.0  202.0  \n",
      "oldpeak                   1.8    6.2  \n",
      "target                    1.0    1.0  \n"
     ]
    }
   ],
   "source": [
    "# 2. Statistiques descriptives pour les colonnes numériques uniquement\n",
    "print(\"\\nStatistiques descriptives pour les colonnes numériques :\")\n",
    "numerical_summary = data.describe().T\n",
    "print(numerical_summary)"
   ]
  },
  {
   "cell_type": "code",
   "execution_count": 4,
   "metadata": {},
   "outputs": [
    {
     "name": "stdout",
     "output_type": "stream",
     "text": [
      "\n",
      "Statistiques descriptives pour les colonnes catégorielles :\n",
      "                              count unique                    top freq\n",
      "sex                            1025      2                   Male  713\n",
      "chest_pain_type                1025      4         Typical angina  497\n",
      "fasting_blood_sugar            1025      2   Lower than 120 mg/ml  872\n",
      "rest_ecg                       1025      3  ST-T wave abnormality  513\n",
      "exercise_induced_angina        1025      2                     No  680\n",
      "slope                          1025      3                   Flat  482\n",
      "vessels_colored_by_flourosopy  1025      5                   Zero  578\n",
      "thalassemia                    1025      4           Fixed Defect  544\n"
     ]
    }
   ],
   "source": [
    "# 3. Statistiques descriptives pour les colonnes catégorielles uniquement\n",
    "print(\"\\nStatistiques descriptives pour les colonnes catégorielles :\")\n",
    "categorical_summary = data.describe(include=['object']).T\n",
    "print(categorical_summary)"
   ]
  },
  {
   "cell_type": "code",
   "execution_count": 5,
   "metadata": {},
   "outputs": [
    {
     "name": "stdout",
     "output_type": "stream",
     "text": [
      "\n",
      "Valeurs uniques et leur fréquence pour chaque colonne catégorielle :\n",
      "\n",
      "sex:\n",
      "sex\n",
      "Male      713\n",
      "Female    312\n",
      "Name: count, dtype: int64\n",
      "\n",
      "chest_pain_type:\n",
      "chest_pain_type\n",
      "Typical angina      497\n",
      "Non-anginal pain    284\n",
      "Atypical angina     167\n",
      "Asymptomatic         77\n",
      "Name: count, dtype: int64\n",
      "\n",
      "fasting_blood_sugar:\n",
      "fasting_blood_sugar\n",
      "Lower than 120 mg/ml      872\n",
      "Greater than 120 mg/ml    153\n",
      "Name: count, dtype: int64\n",
      "\n",
      "rest_ecg:\n",
      "rest_ecg\n",
      "ST-T wave abnormality           513\n",
      "Normal                          497\n",
      "Left ventricular hypertrophy     15\n",
      "Name: count, dtype: int64\n",
      "\n",
      "exercise_induced_angina:\n",
      "exercise_induced_angina\n",
      "No     680\n",
      "Yes    345\n",
      "Name: count, dtype: int64\n",
      "\n",
      "slope:\n",
      "slope\n",
      "Flat           482\n",
      "Downsloping    469\n",
      "Upsloping       74\n",
      "Name: count, dtype: int64\n",
      "\n",
      "vessels_colored_by_flourosopy:\n",
      "vessels_colored_by_flourosopy\n",
      "Zero     578\n",
      "One      226\n",
      "Two      134\n",
      "Three     69\n",
      "Four      18\n",
      "Name: count, dtype: int64\n",
      "\n",
      "thalassemia:\n",
      "thalassemia\n",
      "Fixed Defect         544\n",
      "Reversable Defect    410\n",
      "Normal                64\n",
      "No                     7\n",
      "Name: count, dtype: int64\n"
     ]
    }
   ],
   "source": [
    "# 4. Valeurs uniques et fréquence des valeurs pour les colonnes catégorielles\n",
    "print(\"\\nValeurs uniques et leur fréquence pour chaque colonne catégorielle :\")\n",
    "for col in data.select_dtypes(include=['object']).columns:\n",
    "    print(f\"\\n{col}:\")\n",
    "    print(data[col].value_counts())"
   ]
  },
  {
   "cell_type": "code",
   "execution_count": 6,
   "metadata": {},
   "outputs": [
    {
     "name": "stdout",
     "output_type": "stream",
     "text": [
      "\n",
      "Asymétrie (skewness) et aplatissement (kurtosis) pour les colonnes numériques :\n",
      "age - Skewness: -0.25, Kurtosis: -0.53\n",
      "resting_blood_pressure - Skewness: 0.74, Kurtosis: 0.98\n",
      "cholestoral - Skewness: 1.07, Kurtosis: 3.97\n",
      "Max_heart_rate - Skewness: -0.51, Kurtosis: -0.09\n",
      "oldpeak - Skewness: 1.21, Kurtosis: 1.30\n",
      "target - Skewness: -0.05, Kurtosis: -2.00\n"
     ]
    }
   ],
   "source": [
    "# 5. Calcul de la skewness (asymétrie) et de la kurtosis (applatissement) pour les colonnes numériques\n",
    "from scipy.stats import skew, kurtosis\n",
    "\n",
    "print(\"\\nAsymétrie (skewness) et aplatissement (kurtosis) pour les colonnes numériques :\")\n",
    "for col in data.select_dtypes(include=['float64', 'int64']).columns:\n",
    "    print(f\"{col} - Skewness: {skew(data[col].dropna()):.2f}, Kurtosis: {kurtosis(data[col].dropna()):.2f}\")\n"
   ]
  },
  {
   "cell_type": "code",
   "execution_count": 7,
   "metadata": {},
   "outputs": [
    {
     "name": "stdout",
     "output_type": "stream",
     "text": [
      "\n",
      "Valeurs manquantes dans chaque colonne :\n",
      "Series([], dtype: int64)\n"
     ]
    }
   ],
   "source": [
    "# 6. Vérification des valeurs manquantes\n",
    "print(\"\\nValeurs manquantes dans chaque colonne :\")\n",
    "missing_values = data.isnull().sum()\n",
    "print(missing_values[missing_values > 0])"
   ]
  },
  {
   "cell_type": "code",
   "execution_count": 9,
   "metadata": {},
   "outputs": [],
   "source": [
    "# Résumé des statistiques descriptives dans un dictionnaire\n",
    "descriptive_summary = {\n",
    "    \"global_summary\": data.describe(include='all'),\n",
    "    \"numerical_summary\": numerical_summary,\n",
    "    \"categorical_summary\": categorical_summary,\n",
    "    \"missing_values\": missing_values[missing_values > 0],\n",
    "}"
   ]
  },
  {
   "cell_type": "code",
   "execution_count": 10,
   "metadata": {},
   "outputs": [
    {
     "data": {
      "text/plain": [
       "{'global_summary':                 age   sex chest_pain_type  resting_blood_pressure  \\\n",
       " count   1025.000000  1025            1025             1025.000000   \n",
       " unique          NaN     2               4                     NaN   \n",
       " top             NaN  Male  Typical angina                     NaN   \n",
       " freq            NaN   713             497                     NaN   \n",
       " mean      54.434146   NaN             NaN              131.611707   \n",
       " std        9.072290   NaN             NaN               17.516718   \n",
       " min       29.000000   NaN             NaN               94.000000   \n",
       " 25%       48.000000   NaN             NaN              120.000000   \n",
       " 50%       56.000000   NaN             NaN              130.000000   \n",
       " 75%       61.000000   NaN             NaN              140.000000   \n",
       " max       77.000000   NaN             NaN              200.000000   \n",
       " \n",
       "         cholestoral   fasting_blood_sugar               rest_ecg  \\\n",
       " count    1025.00000                  1025                   1025   \n",
       " unique          NaN                     2                      3   \n",
       " top             NaN  Lower than 120 mg/ml  ST-T wave abnormality   \n",
       " freq            NaN                   872                    513   \n",
       " mean      246.00000                   NaN                    NaN   \n",
       " std        51.59251                   NaN                    NaN   \n",
       " min       126.00000                   NaN                    NaN   \n",
       " 25%       211.00000                   NaN                    NaN   \n",
       " 50%       240.00000                   NaN                    NaN   \n",
       " 75%       275.00000                   NaN                    NaN   \n",
       " max       564.00000                   NaN                    NaN   \n",
       " \n",
       "         Max_heart_rate exercise_induced_angina      oldpeak slope  \\\n",
       " count      1025.000000                    1025  1025.000000  1025   \n",
       " unique             NaN                       2          NaN     3   \n",
       " top                NaN                      No          NaN  Flat   \n",
       " freq               NaN                     680          NaN   482   \n",
       " mean        149.114146                     NaN     1.071512   NaN   \n",
       " std          23.005724                     NaN     1.175053   NaN   \n",
       " min          71.000000                     NaN     0.000000   NaN   \n",
       " 25%         132.000000                     NaN     0.000000   NaN   \n",
       " 50%         152.000000                     NaN     0.800000   NaN   \n",
       " 75%         166.000000                     NaN     1.800000   NaN   \n",
       " max         202.000000                     NaN     6.200000   NaN   \n",
       " \n",
       "        vessels_colored_by_flourosopy   thalassemia       target  \n",
       " count                           1025          1025  1025.000000  \n",
       " unique                             5             4          NaN  \n",
       " top                             Zero  Fixed Defect          NaN  \n",
       " freq                             578           544          NaN  \n",
       " mean                             NaN           NaN     0.513171  \n",
       " std                              NaN           NaN     0.500070  \n",
       " min                              NaN           NaN     0.000000  \n",
       " 25%                              NaN           NaN     0.000000  \n",
       " 50%                              NaN           NaN     1.000000  \n",
       " 75%                              NaN           NaN     1.000000  \n",
       " max                              NaN           NaN     1.000000  ,\n",
       " 'numerical_summary':                          count        mean        std    min    25%    50%  \\\n",
       " age                     1025.0   54.434146   9.072290   29.0   48.0   56.0   \n",
       " resting_blood_pressure  1025.0  131.611707  17.516718   94.0  120.0  130.0   \n",
       " cholestoral             1025.0  246.000000  51.592510  126.0  211.0  240.0   \n",
       " Max_heart_rate          1025.0  149.114146  23.005724   71.0  132.0  152.0   \n",
       " oldpeak                 1025.0    1.071512   1.175053    0.0    0.0    0.8   \n",
       " target                  1025.0    0.513171   0.500070    0.0    0.0    1.0   \n",
       " \n",
       "                           75%    max  \n",
       " age                      61.0   77.0  \n",
       " resting_blood_pressure  140.0  200.0  \n",
       " cholestoral             275.0  564.0  \n",
       " Max_heart_rate          166.0  202.0  \n",
       " oldpeak                   1.8    6.2  \n",
       " target                    1.0    1.0  ,\n",
       " 'categorical_summary':                               count unique                    top freq\n",
       " sex                            1025      2                   Male  713\n",
       " chest_pain_type                1025      4         Typical angina  497\n",
       " fasting_blood_sugar            1025      2   Lower than 120 mg/ml  872\n",
       " rest_ecg                       1025      3  ST-T wave abnormality  513\n",
       " exercise_induced_angina        1025      2                     No  680\n",
       " slope                          1025      3                   Flat  482\n",
       " vessels_colored_by_flourosopy  1025      5                   Zero  578\n",
       " thalassemia                    1025      4           Fixed Defect  544,\n",
       " 'missing_values': Series([], dtype: int64)}"
      ]
     },
     "execution_count": 10,
     "metadata": {},
     "output_type": "execute_result"
    }
   ],
   "source": [
    "descriptive_summary"
   ]
  }
 ],
 "metadata": {
  "kernelspec": {
   "display_name": "Python 3",
   "language": "python",
   "name": "python3"
  },
  "language_info": {
   "codemirror_mode": {
    "name": "ipython",
    "version": 3
   },
   "file_extension": ".py",
   "mimetype": "text/x-python",
   "name": "python",
   "nbconvert_exporter": "python",
   "pygments_lexer": "ipython3",
   "version": "3.11.9"
  }
 },
 "nbformat": 4,
 "nbformat_minor": 2
}
