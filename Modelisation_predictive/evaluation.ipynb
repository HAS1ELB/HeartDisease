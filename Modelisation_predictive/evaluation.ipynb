{
 "cells": [
  {
   "cell_type": "markdown",
   "metadata": {},
   "source": [
    "# Importation des bibliothèques nécessaires pour l'évaluation"
   ]
  },
  {
   "cell_type": "code",
   "execution_count": 2,
   "metadata": {},
   "outputs": [],
   "source": [
    "from sklearn.metrics import accuracy_score, precision_score, recall_score, f1_score, roc_auc_score, roc_curve, confusion_matrix, classification_report\n",
    "import matplotlib.pyplot as plt\n",
    "import joblib"
   ]
  },
  {
   "cell_type": "markdown",
   "metadata": {},
   "source": [
    "# Chargement du modèle"
   ]
  },
  {
   "cell_type": "code",
   "execution_count": 3,
   "metadata": {},
   "outputs": [
    {
     "name": "stdout",
     "output_type": "stream",
     "text": [
      "Modèles chargé et prêt à être utilisé pour les prédictions.\n"
     ]
    }
   ],
   "source": [
    "rf_model = joblib.load('/home/hassan/Desktop/HeartDiseaseAnalysis/models/random_forest_model.joblib')\n",
    "svm_model = joblib.load('/home/hassan/Desktop/HeartDiseaseAnalysis/models/svm_model.joblib')\n",
    "log_reg_model = joblib.load('/home/hassan/Desktop/HeartDiseaseAnalysis/models/log_reg_model.joblib')\n",
    "print(\"Modèles chargé et prêt à être utilisé pour les prédictions.\")"
   ]
  }
 ],
 "metadata": {
  "kernelspec": {
   "display_name": "Python 3",
   "language": "python",
   "name": "python3"
  },
  "language_info": {
   "codemirror_mode": {
    "name": "ipython",
    "version": 3
   },
   "file_extension": ".py",
   "mimetype": "text/x-python",
   "name": "python",
   "nbconvert_exporter": "python",
   "pygments_lexer": "ipython3",
   "version": "3.11.9"
  }
 },
 "nbformat": 4,
 "nbformat_minor": 2
}
